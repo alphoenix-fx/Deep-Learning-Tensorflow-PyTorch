{
  "nbformat": 4,
  "nbformat_minor": 0,
  "metadata": {
    "colab": {
      "name": "Generative Adversarial Networks(GANs)_example0.ipynb",
      "version": "0.3.2",
      "provenance": [],
      "collapsed_sections": [],
      "include_colab_link": true
    },
    "kernelspec": {
      "name": "python3",
      "display_name": "Python 3"
    },
    "accelerator": "TPU"
  },
  "cells": [
    {
      "cell_type": "markdown",
      "metadata": {
        "id": "view-in-github",
        "colab_type": "text"
      },
      "source": [
        "<a href=\"https://colab.research.google.com/github/alphoenixbiz/Deep-Learning-Tensorflow-PyTorch/blob/master/Generative%20Adversarial%20Networks%20(GANs)/Example%200/Generative_Adversarial_Networks(GANs)_example0.ipynb\" target=\"_parent\"><img src=\"https://colab.research.google.com/assets/colab-badge.svg\" alt=\"Open In Colab\"/></a>"
      ]
    },
    {
      "cell_type": "code",
      "metadata": {
        "id": "Gn46jUKKHamk",
        "colab_type": "code",
        "colab": {}
      },
      "source": [
        "import numpy as np\n",
        "import pandas as pd\n",
        "from matplotlib import pyplot as plt\n",
        "%matplotlib inline"
      ],
      "execution_count": 0,
      "outputs": []
    },
    {
      "cell_type": "code",
      "metadata": {
        "id": "EPXAQ_oRHtrK",
        "colab_type": "code",
        "outputId": "94030872-6c31-4099-a1e8-2acd98a1a3a2",
        "colab": {
          "base_uri": "https://localhost:8080/",
          "height": 122
        }
      },
      "source": [
        "from google.colab import drive \n",
        "drive.mount('/content/gdrive')"
      ],
      "execution_count": 2,
      "outputs": [
        {
          "output_type": "stream",
          "text": [
            "Go to this URL in a browser: https://accounts.google.com/o/oauth2/auth?client_id=947318989803-6bn6qk8qdgf4n4g3pfee6491hc0brc4i.apps.googleusercontent.com&redirect_uri=urn%3Aietf%3Awg%3Aoauth%3A2.0%3Aoob&scope=email%20https%3A%2F%2Fwww.googleapis.com%2Fauth%2Fdocs.test%20https%3A%2F%2Fwww.googleapis.com%2Fauth%2Fdrive%20https%3A%2F%2Fwww.googleapis.com%2Fauth%2Fdrive.photos.readonly%20https%3A%2F%2Fwww.googleapis.com%2Fauth%2Fpeopleapi.readonly&response_type=code\n",
            "\n",
            "Enter your authorization code:\n",
            "··········\n",
            "Mounted at /content/gdrive\n"
          ],
          "name": "stdout"
        }
      ]
    },
    {
      "cell_type": "code",
      "metadata": {
        "id": "QaTm7MIWlQCr",
        "colab_type": "code",
        "colab": {}
      },
      "source": [
        "# Importing the libraries\n",
        "from __future__ import print_function\n",
        "import torch\n",
        "import torch.nn as nn\n",
        "import torch.nn.parallel\n",
        "import torch.optim as optim\n",
        "import torch.utils.data\n",
        "import torchvision.datasets as dset\n",
        "import torchvision.transforms as transforms\n",
        "import torchvision.utils as vutils\n",
        "from torch.autograd import Variable"
      ],
      "execution_count": 0,
      "outputs": []
    },
    {
      "cell_type": "code",
      "metadata": {
        "id": "6pwmLLL1XXpG",
        "colab_type": "code",
        "colab": {}
      },
      "source": [
        "# Setting some hyperparameters\n",
        "batchSize = 64 # We set the size of the batch.\n",
        "imageSize = 64 # We set the size of the generated images (64x64).\n"
      ],
      "execution_count": 0,
      "outputs": []
    },
    {
      "cell_type": "code",
      "metadata": {
        "id": "fwFIb2VGXYzo",
        "colab_type": "code",
        "colab": {
          "base_uri": "https://localhost:8080/",
          "height": 71
        },
        "outputId": "2c7a204e-f20c-49df-8df0-738bd0421e93"
      },
      "source": [
        "# Creating the transformations\n",
        "transform = transforms.Compose([transforms.Scale(imageSize), transforms.ToTensor(), transforms.Normalize((0.5, 0.5, 0.5), (0.5, 0.5, 0.5)),]) # We create a list of transformations (scaling, tensor conversion, normalization) to apply to the input images.\n"
      ],
      "execution_count": 5,
      "outputs": [
        {
          "output_type": "stream",
          "text": [
            "/usr/local/lib/python3.6/dist-packages/torchvision/transforms/transforms.py:209: UserWarning: The use of the transforms.Scale transform is deprecated, please use transforms.Resize instead.\n",
            "  \"please use transforms.Resize instead.\")\n"
          ],
          "name": "stderr"
        }
      ]
    },
    {
      "cell_type": "code",
      "metadata": {
        "id": "KW8Zh5z-Xe-g",
        "colab_type": "code",
        "colab": {
          "base_uri": "https://localhost:8080/",
          "height": 34
        },
        "outputId": "40ce7671-34b8-4341-f7c1-15c8f00ed64d"
      },
      "source": [
        "# Loading the dataset\n",
        "dataset = dset.CIFAR10(root = 'gdrive/My Drive/Colab Notebooks/DATA/gan_data/data', download = True, transform = transform) # We download the training set in the ./data folder and we apply the previous transformations on each image.\n",
        "dataloader = torch.utils.data.DataLoader(dataset, batch_size = batchSize, shuffle = True, num_workers = 2) # We use dataLoader to get the images of the training set batch by batch.\n"
      ],
      "execution_count": 6,
      "outputs": [
        {
          "output_type": "stream",
          "text": [
            "Files already downloaded and verified\n"
          ],
          "name": "stdout"
        }
      ]
    },
    {
      "cell_type": "code",
      "metadata": {
        "id": "uzuJXVN8XlqI",
        "colab_type": "code",
        "colab": {}
      },
      "source": [
        "# Defining the weights_init function that takes as input a neural network m and that will initialize all its weights.\n",
        "def weights_init(m):\n",
        "    classname = m.__class__.__name__\n",
        "    if classname.find('Conv') != -1:\n",
        "        m.weight.data.normal_(0.0, 0.02)\n",
        "    elif classname.find('BatchNorm') != -1:\n",
        "        m.weight.data.normal_(1.0, 0.02)\n",
        "        m.bias.data.fill_(0)\n"
      ],
      "execution_count": 0,
      "outputs": []
    },
    {
      "cell_type": "code",
      "metadata": {
        "id": "y5p9EdFPXw1v",
        "colab_type": "code",
        "colab": {}
      },
      "source": [
        "# Defining the generator\n",
        "\n",
        "class G(nn.Module): # We introduce a class to define the generator.\n",
        "\n",
        "    def __init__(self): # We introduce the __init__() function that will define the architecture of the generator.\n",
        "        super(G, self).__init__() # We inherit from the nn.Module tools.\n",
        "        self.main = nn.Sequential( # We create a meta module of a neural network that will contain a sequence of modules (convolutions, full connections, etc.).\n",
        "            nn.ConvTranspose2d(100, 512, 4, 1, 0, bias = False), # We start with an inversed convolution.\n",
        "            nn.BatchNorm2d(512), # We normalize all the features along the dimension of the batch.\n",
        "            nn.ReLU(True), # We apply a ReLU rectification to break the linearity.\n",
        "            nn.ConvTranspose2d(512, 256, 4, 2, 1, bias = False), # We add another inversed convolution.\n",
        "            nn.BatchNorm2d(256), # We normalize again.\n",
        "            nn.ReLU(True), # We apply another ReLU.\n",
        "            nn.ConvTranspose2d(256, 128, 4, 2, 1, bias = False), # We add another inversed convolution.\n",
        "            nn.BatchNorm2d(128), # We normalize again.\n",
        "            nn.ReLU(True), # We apply another ReLU.\n",
        "            nn.ConvTranspose2d(128, 64, 4, 2, 1, bias = False), # We add another inversed convolution.\n",
        "            nn.BatchNorm2d(64), # We normalize again.\n",
        "            nn.ReLU(True), # We apply another ReLU.\n",
        "            nn.ConvTranspose2d(64, 3, 4, 2, 1, bias = False), # We add another inversed convolution.\n",
        "            nn.Tanh() # We apply a Tanh rectification to break the linearity and stay between -1 and +1.\n",
        "        )\n",
        "\n",
        "    def forward(self, input): # We define the forward function that takes as argument an input that will be fed to the neural network, and that will return the output containing the generated images.\n",
        "        output = self.main(input) # We forward propagate the signal through the whole neural network of the generator defined by self.main.\n",
        "        return output # We return the output containing the generated images.\n"
      ],
      "execution_count": 0,
      "outputs": []
    },
    {
      "cell_type": "code",
      "metadata": {
        "id": "05gmlGtKXytg",
        "colab_type": "code",
        "colab": {
          "base_uri": "https://localhost:8080/",
          "height": 323
        },
        "outputId": "0b7bb6f2-e08c-4564-f5e8-1139dee4f106"
      },
      "source": [
        "#  Creating the generator\n",
        "netG = G() # We create the generator object.\n",
        "netG.apply(weights_init) # We initialize all the weights of its neural network.\n"
      ],
      "execution_count": 9,
      "outputs": [
        {
          "output_type": "execute_result",
          "data": {
            "text/plain": [
              "G(\n",
              "  (main): Sequential(\n",
              "    (0): ConvTranspose2d(100, 512, kernel_size=(4, 4), stride=(1, 1), bias=False)\n",
              "    (1): BatchNorm2d(512, eps=1e-05, momentum=0.1, affine=True, track_running_stats=True)\n",
              "    (2): ReLU(inplace)\n",
              "    (3): ConvTranspose2d(512, 256, kernel_size=(4, 4), stride=(2, 2), padding=(1, 1), bias=False)\n",
              "    (4): BatchNorm2d(256, eps=1e-05, momentum=0.1, affine=True, track_running_stats=True)\n",
              "    (5): ReLU(inplace)\n",
              "    (6): ConvTranspose2d(256, 128, kernel_size=(4, 4), stride=(2, 2), padding=(1, 1), bias=False)\n",
              "    (7): BatchNorm2d(128, eps=1e-05, momentum=0.1, affine=True, track_running_stats=True)\n",
              "    (8): ReLU(inplace)\n",
              "    (9): ConvTranspose2d(128, 64, kernel_size=(4, 4), stride=(2, 2), padding=(1, 1), bias=False)\n",
              "    (10): BatchNorm2d(64, eps=1e-05, momentum=0.1, affine=True, track_running_stats=True)\n",
              "    (11): ReLU(inplace)\n",
              "    (12): ConvTranspose2d(64, 3, kernel_size=(4, 4), stride=(2, 2), padding=(1, 1), bias=False)\n",
              "    (13): Tanh()\n",
              "  )\n",
              ")"
            ]
          },
          "metadata": {
            "tags": []
          },
          "execution_count": 9
        }
      ]
    },
    {
      "cell_type": "code",
      "metadata": {
        "id": "XY2SJaoyX76u",
        "colab_type": "code",
        "colab": {}
      },
      "source": [
        "\n",
        "# Defining the discriminator\n",
        "\n",
        "class D(nn.Module): # We introduce a class to define the discriminator.\n",
        "\n",
        "    def __init__(self): # We introduce the __init__() function that will define the architecture of the discriminator.\n",
        "        super(D, self).__init__() # We inherit from the nn.Module tools.\n",
        "        self.main = nn.Sequential( # We create a meta module of a neural network that will contain a sequence of modules (convolutions, full connections, etc.).\n",
        "            nn.Conv2d(3, 64, 4, 2, 1, bias = False), # We start with a convolution.\n",
        "            nn.LeakyReLU(0.2, inplace = True), # We apply a LeakyReLU.\n",
        "            nn.Conv2d(64, 128, 4, 2, 1, bias = False), # We add another convolution.\n",
        "            nn.BatchNorm2d(128), # We normalize all the features along the dimension of the batch.\n",
        "            nn.LeakyReLU(0.2, inplace = True), # We apply another LeakyReLU.\n",
        "            nn.Conv2d(128, 256, 4, 2, 1, bias = False), # We add another convolution.\n",
        "            nn.BatchNorm2d(256), # We normalize again.\n",
        "            nn.LeakyReLU(0.2, inplace = True), # We apply another LeakyReLU.\n",
        "            nn.Conv2d(256, 512, 4, 2, 1, bias = False), # We add another convolution.\n",
        "            nn.BatchNorm2d(512), # We normalize again.\n",
        "            nn.LeakyReLU(0.2, inplace = True), # We apply another LeakyReLU.\n",
        "            nn.Conv2d(512, 1, 4, 1, 0, bias = False), # We add another convolution.\n",
        "            nn.Sigmoid() # We apply a Sigmoid rectification to break the linearity and stay between 0 and 1.\n",
        "        )\n",
        "\n",
        "    def forward(self, input): # We define the forward function that takes as argument an input that will be fed to the neural network, and that will return the output which will be a value between 0 and 1.\n",
        "        output = self.main(input) # We forward propagate the signal through the whole neural network of the discriminator defined by self.main.\n",
        "        return output.view(-1) # We return the output which will be a value between 0 and 1.\n"
      ],
      "execution_count": 0,
      "outputs": []
    },
    {
      "cell_type": "code",
      "metadata": {
        "id": "Fk4PNuPaYE-u",
        "colab_type": "code",
        "colab": {
          "base_uri": "https://localhost:8080/",
          "height": 306
        },
        "outputId": "6d382168-cf66-4a4d-91fc-392875d70472"
      },
      "source": [
        "# Creating the discriminator\n",
        "netD = D() # We create the discriminator object.\n",
        "netD.apply(weights_init) # We initialize all the weights of its neural network."
      ],
      "execution_count": 11,
      "outputs": [
        {
          "output_type": "execute_result",
          "data": {
            "text/plain": [
              "D(\n",
              "  (main): Sequential(\n",
              "    (0): Conv2d(3, 64, kernel_size=(4, 4), stride=(2, 2), padding=(1, 1), bias=False)\n",
              "    (1): LeakyReLU(negative_slope=0.2, inplace)\n",
              "    (2): Conv2d(64, 128, kernel_size=(4, 4), stride=(2, 2), padding=(1, 1), bias=False)\n",
              "    (3): BatchNorm2d(128, eps=1e-05, momentum=0.1, affine=True, track_running_stats=True)\n",
              "    (4): LeakyReLU(negative_slope=0.2, inplace)\n",
              "    (5): Conv2d(128, 256, kernel_size=(4, 4), stride=(2, 2), padding=(1, 1), bias=False)\n",
              "    (6): BatchNorm2d(256, eps=1e-05, momentum=0.1, affine=True, track_running_stats=True)\n",
              "    (7): LeakyReLU(negative_slope=0.2, inplace)\n",
              "    (8): Conv2d(256, 512, kernel_size=(4, 4), stride=(2, 2), padding=(1, 1), bias=False)\n",
              "    (9): BatchNorm2d(512, eps=1e-05, momentum=0.1, affine=True, track_running_stats=True)\n",
              "    (10): LeakyReLU(negative_slope=0.2, inplace)\n",
              "    (11): Conv2d(512, 1, kernel_size=(4, 4), stride=(1, 1), bias=False)\n",
              "    (12): Sigmoid()\n",
              "  )\n",
              ")"
            ]
          },
          "metadata": {
            "tags": []
          },
          "execution_count": 11
        }
      ]
    },
    {
      "cell_type": "code",
      "metadata": {
        "id": "b_R7sI_kYc8O",
        "colab_type": "code",
        "colab": {}
      },
      "source": [
        "# Training the DCGANs\n",
        "\n",
        "criterion = nn.BCELoss() # We create a criterion object that will measure the error between the prediction and the target.\n",
        "optimizerD = optim.Adam(netD.parameters(), lr = 0.0002, betas = (0.5, 0.999)) # We create the optimizer object of the discriminator.\n",
        "optimizerG = optim.Adam(netG.parameters(), lr = 0.0002, betas = (0.5, 0.999)) # We create the optimizer object of the generator.\n"
      ],
      "execution_count": 0,
      "outputs": []
    },
    {
      "cell_type": "code",
      "metadata": {
        "id": "2PYoyUuVYYRe",
        "colab_type": "code",
        "colab": {}
      },
      "source": [
        "\n",
        "for epoch in range(25): # We iterate over 25 epochs.\n",
        "\n",
        "    for i, data in enumerate(dataloader, 0): # We iterate over the images of the dataset.\n",
        "        \n",
        "        # 1st Step: Updating the weights of the neural network of the discriminator\n",
        "\n",
        "        netD.zero_grad() # We initialize to 0 the gradients of the discriminator with respect to the weights.\n",
        "        \n",
        "        # Training the discriminator with a real image of the dataset\n",
        "        real, _ = data # We get a real image of the dataset which will be used to train the discriminator.\n",
        "        input = Variable(real) # We wrap it in a variable.\n",
        "        target = Variable(torch.ones(input.size()[0])) # We get the target.\n",
        "        output = netD(input) # We forward propagate this real image into the neural network of the discriminator to get the prediction (a value between 0 and 1).\n",
        "        errD_real = criterion(output, target) # We compute the loss between the predictions (output) and the target (equal to 1).\n",
        "        \n",
        "        # Training the discriminator with a fake image generated by the generator\n",
        "        noise = Variable(torch.randn(input.size()[0], 100, 1, 1)) # We make a random input vector (noise) of the generator.\n",
        "        fake = netG(noise) # We forward propagate this random input vector into the neural network of the generator to get some fake generated images.\n",
        "        target = Variable(torch.zeros(input.size()[0])) # We get the target.\n",
        "        output = netD(fake.detach()) # We forward propagate the fake generated images into the neural network of the discriminator to get the prediction (a value between 0 and 1).\n",
        "        errD_fake = criterion(output, target) # We compute the loss between the prediction (output) and the target (equal to 0).\n",
        "\n",
        "        # Backpropagating the total error\n",
        "        errD = errD_real + errD_fake # We compute the total error of the discriminator.\n",
        "        errD.backward() # We backpropagate the loss error by computing the gradients of the total error with respect to the weights of the discriminator.\n",
        "        optimizerD.step() # We apply the optimizer to update the weights according to how much they are responsible for the loss error of the discriminator.\n",
        "\n",
        "        # 2nd Step: Updating the weights of the neural network of the generator\n",
        "\n",
        "        netG.zero_grad() # We initialize to 0 the gradients of the generator with respect to the weights.\n",
        "        target = Variable(torch.ones(input.size()[0])) # We get the target.\n",
        "        output = netD(fake) # We forward propagate the fake generated images into the neural network of the discriminator to get the prediction (a value between 0 and 1).\n",
        "        errG = criterion(output, target) # We compute the loss between the prediction (output between 0 and 1) and the target (equal to 1).\n",
        "        errG.backward() # We backpropagate the loss error by computing the gradients of the total error with respect to the weights of the generator.\n",
        "        optimizerG.step() # We apply the optimizer to update the weights according to how much they are responsible for the loss error of the generator.\n",
        "   "
      ],
      "execution_count": 0,
      "outputs": []
    },
    {
      "cell_type": "code",
      "metadata": {
        "id": "80wk4mbAYmDk",
        "colab_type": "code",
        "colab": {}
      },
      "source": [
        "# 3rd Step: Printing the losses and saving the real images and the generated images of the minibatch every 100 steps\n",
        "\n",
        "        print('[%d/%d][%d/%d] Loss_D: %.4f Loss_G: %.4f' % (epoch, 25, i, len(dataloader), errD.data[0], errG.data[0])) # We print les losses of the discriminator (Loss_D) and the generator (Loss_G).\n",
        "        if i % 100 == 0: # Every 100 steps:\n",
        "            vutils.save_image(real, '%s/real_samples.png' % \"gdrive/My Drive/Colab Notebooks/DATA/gan_data/results\", normalize = True) # We save the real images of the minibatch.\n",
        "            fake = netG(noise) # We get our fake generated images.\n",
        "            vutils.save_image(fake.data, '%s/fake_samples_epoch_%03d.png' % (\"gdrive/My Drive/Colab Notebooks/DATA/gan_data/results\", epoch), normalize = True) # We also save the fake generated images of the minibatch."
      ],
      "execution_count": 0,
      "outputs": []
    }
  ]
}