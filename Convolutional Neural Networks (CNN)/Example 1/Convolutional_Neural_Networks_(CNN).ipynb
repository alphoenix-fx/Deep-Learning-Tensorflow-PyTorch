{
  "nbformat": 4,
  "nbformat_minor": 0,
  "metadata": {
    "colab": {
      "name": "Convolutional Neural Networks (CNN).ipynb",
      "version": "0.3.2",
      "provenance": [],
      "collapsed_sections": [],
      "include_colab_link": true
    },
    "kernelspec": {
      "name": "python3",
      "display_name": "Python 3"
    }
  },
  "cells": [
    {
      "cell_type": "markdown",
      "metadata": {
        "id": "view-in-github",
        "colab_type": "text"
      },
      "source": [
        "<a href=\"https://colab.research.google.com/github/alphoenixbiz/Deep-Learning-Tensorflow/blob/master/Convolutional%20Neural%20Networks%20(CNN)/Example%201/Convolutional_Neural_Networks_(CNN).ipynb\" target=\"_parent\"><img src=\"https://colab.research.google.com/assets/colab-badge.svg\" alt=\"Open In Colab\"/></a>"
      ]
    },
    {
      "cell_type": "code",
      "metadata": {
        "id": "yvEMKUbEJQi4",
        "colab_type": "code",
        "colab": {}
      },
      "source": [
        "import numpy as np\n",
        "import pandas as pd\n",
        "from matplotlib import pyplot as plt\n",
        "%matplotlib inline"
      ],
      "execution_count": 0,
      "outputs": []
    },
    {
      "cell_type": "code",
      "metadata": {
        "id": "gDVoN-1EFIH4",
        "colab_type": "code",
        "colab": {}
      },
      "source": [
        "from __future__ import absolute_import, division, print_function, unicode_literals\n",
        "\n",
        "# !pip install -q tensorflow-gpu==2.0.0-beta1\n",
        "import tensorflow as tf\n",
        "\n",
        "from tensorflow.keras import datasets, layers, models\n",
        "\n",
        "# Importing the Keras libraries and packages\n",
        "from keras.models import Sequential\n",
        "from keras.layers import Convolution2D\n",
        "from keras.layers import MaxPooling2D\n",
        "from keras.layers import Flatten\n",
        "from keras.layers import Dense"
      ],
      "execution_count": 0,
      "outputs": []
    },
    {
      "cell_type": "code",
      "metadata": {
        "id": "gIdEJtTXJemm",
        "colab_type": "code",
        "outputId": "737d328f-0162-4058-d0ec-92bc8dcc9a68",
        "colab": {
          "base_uri": "https://localhost:8080/",
          "height": 34
        }
      },
      "source": [
        "from google.colab import drive \n",
        "drive.mount('/content/gdrive')"
      ],
      "execution_count": 11,
      "outputs": [
        {
          "output_type": "stream",
          "text": [
            "Drive already mounted at /content/gdrive; to attempt to forcibly remount, call drive.mount(\"/content/gdrive\", force_remount=True).\n"
          ],
          "name": "stdout"
        }
      ]
    },
    {
      "cell_type": "code",
      "metadata": {
        "id": "zhFnRjzkEiT5",
        "colab_type": "code",
        "colab": {}
      },
      "source": [
        "from keras.preprocessing.image import ImageDataGenerator\n",
        "\n",
        "train_datagen = ImageDataGenerator(rescale = 1./255,\n",
        "                                   shear_range = 0.2,\n",
        "                                   zoom_range = 0.2,\n",
        "                                   horizontal_flip = True)\n",
        "\n",
        "test_datagen = ImageDataGenerator(rescale = 1./255)"
      ],
      "execution_count": 0,
      "outputs": []
    },
    {
      "cell_type": "code",
      "metadata": {
        "id": "oBoS0y5tCbGQ",
        "colab_type": "code",
        "outputId": "e42bc9ec-5b67-4e1c-a2ec-cb51e03798e0",
        "colab": {
          "base_uri": "https://localhost:8080/",
          "height": 68
        }
      },
      "source": [
        "training_set = train_datagen.flow_from_directory('gdrive/My Drive/Colab Notebooks/DATA/cnn_dataset/training_set',\n",
        "                                                 target_size = (64, 64),\n",
        "                                                 batch_size = 32,\n",
        "                                                 class_mode = 'binary')\n",
        "\n",
        "test_set = test_datagen.flow_from_directory('gdrive/My Drive/Colab Notebooks/DATA/cnn_dataset/test_set',\n",
        "                                            target_size = (64, 64),\n",
        "                                            batch_size = 32,\n",
        "                                            class_mode = 'binary')\n",
        "training_set"
      ],
      "execution_count": 13,
      "outputs": [
        {
          "output_type": "stream",
          "text": [
            "Found 8000 images belonging to 2 classes.\n",
            "Found 2000 images belonging to 2 classes.\n"
          ],
          "name": "stdout"
        },
        {
          "output_type": "execute_result",
          "data": {
            "text/plain": [
              "<keras_preprocessing.image.directory_iterator.DirectoryIterator at 0x7f7a5f920cf8>"
            ]
          },
          "metadata": {
            "tags": []
          },
          "execution_count": 13
        }
      ]
    },
    {
      "cell_type": "code",
      "metadata": {
        "id": "dziuVKO5dvHP",
        "colab_type": "code",
        "colab": {}
      },
      "source": [
        "# Initialising the CNN\n",
        "classifier = tf.keras.Sequential()\n",
        "\n",
        "# Step 1 - Convolution\n",
        "classifier.add(layers.Convolution2D(32, 3, 3, input_shape = (64, 64, 3), activation = 'relu'))\n",
        "\n",
        "# Step 2 - Pooling\n",
        "classifier.add(layers.MaxPooling2D(pool_size = (2, 2)))\n",
        "\n",
        "# Adding a second convolutional layer\n",
        "classifier.add(layers.Convolution2D(32, 3, 3, activation = 'relu'))\n",
        "classifier.add(layers.MaxPooling2D(pool_size = (2, 2)))\n",
        "\n",
        "# Step 3 - Flattening\n",
        "classifier.add(layers.Flatten())\n",
        "\n",
        "# Step 4 - Full connection\n",
        "classifier.add(layers.Dense(128, activation = 'relu'))\n",
        "classifier.add(layers.Dense(1, activation = 'sigmoid'))\n",
        "\n",
        "# Compiling the CNN\n",
        "classifier.compile(optimizer = 'adam', loss = 'binary_crossentropy', metrics = ['accuracy'])"
      ],
      "execution_count": 0,
      "outputs": []
    },
    {
      "cell_type": "code",
      "metadata": {
        "id": "3IAgG4zC_oOA",
        "colab_type": "code",
        "outputId": "abe2cb5d-ed6c-462f-c4ea-5773b25272d6",
        "colab": {
          "base_uri": "https://localhost:8080/",
          "height": 374
        }
      },
      "source": [
        "# Fitting the CNN to the images\n",
        "classifier.fit_generator(training_set,\n",
        "                         epochs = 10,\n",
        "                         validation_data = test_set)"
      ],
      "execution_count": 15,
      "outputs": [
        {
          "output_type": "stream",
          "text": [
            "Epoch 1/10\n",
            "250/250 [==============================] - 55s 220ms/step - loss: 0.6930 - acc: 0.5155 - val_loss: 0.6877 - val_acc: 0.5360\n",
            "Epoch 2/10\n",
            "250/250 [==============================] - 52s 210ms/step - loss: 0.6820 - acc: 0.5604 - val_loss: 0.6677 - val_acc: 0.6025\n",
            "Epoch 3/10\n",
            "250/250 [==============================] - 52s 209ms/step - loss: 0.6641 - acc: 0.5970 - val_loss: 0.6541 - val_acc: 0.6170\n",
            "Epoch 4/10\n",
            "250/250 [==============================] - 53s 212ms/step - loss: 0.6536 - acc: 0.6120 - val_loss: 0.6376 - val_acc: 0.6385\n",
            "Epoch 5/10\n",
            "250/250 [==============================] - 53s 211ms/step - loss: 0.6415 - acc: 0.6241 - val_loss: 0.6304 - val_acc: 0.6460\n",
            "Epoch 6/10\n",
            "250/250 [==============================] - 54s 215ms/step - loss: 0.6321 - acc: 0.6404 - val_loss: 0.6330 - val_acc: 0.6425\n",
            "Epoch 7/10\n",
            "250/250 [==============================] - 53s 213ms/step - loss: 0.6212 - acc: 0.6536 - val_loss: 0.6246 - val_acc: 0.6555\n",
            "Epoch 8/10\n",
            "250/250 [==============================] - 52s 210ms/step - loss: 0.6164 - acc: 0.6587 - val_loss: 0.6112 - val_acc: 0.6655\n",
            "Epoch 9/10\n",
            "250/250 [==============================] - 52s 210ms/step - loss: 0.6128 - acc: 0.6662 - val_loss: 0.6556 - val_acc: 0.6005\n",
            "Epoch 10/10\n",
            "250/250 [==============================] - 53s 212ms/step - loss: 0.6028 - acc: 0.6704 - val_loss: 0.7380 - val_acc: 0.5615\n"
          ],
          "name": "stdout"
        },
        {
          "output_type": "execute_result",
          "data": {
            "text/plain": [
              "<tensorflow.python.keras.callbacks.History at 0x7f7a5f920e10>"
            ]
          },
          "metadata": {
            "tags": []
          },
          "execution_count": 15
        }
      ]
    },
    {
      "cell_type": "code",
      "metadata": {
        "id": "RhEbiREbGn7I",
        "colab_type": "code",
        "colab": {
          "base_uri": "https://localhost:8080/",
          "height": 136
        },
        "outputId": "5f4e7797-c172-4e90-f9ef-c6b623270039"
      },
      "source": [
        "# Predicting the Test set results\n",
        "y_pred = classifier.predict(test_set)\n",
        "y_pred = (y_pred > 0.5)\n",
        "y_pred"
      ],
      "execution_count": 17,
      "outputs": [
        {
          "output_type": "execute_result",
          "data": {
            "text/plain": [
              "array([[ True],\n",
              "       [ True],\n",
              "       [ True],\n",
              "       ...,\n",
              "       [ True],\n",
              "       [ True],\n",
              "       [False]])"
            ]
          },
          "metadata": {
            "tags": []
          },
          "execution_count": 17
        }
      ]
    }
  ]
}