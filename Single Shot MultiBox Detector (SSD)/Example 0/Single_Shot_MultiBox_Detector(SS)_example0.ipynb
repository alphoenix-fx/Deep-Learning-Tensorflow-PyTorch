{
  "nbformat": 4,
  "nbformat_minor": 0,
  "metadata": {
    "colab": {
      "name": "Single Shot MultiBox Detector(SS)_example0.ipynb",
      "version": "0.3.2",
      "provenance": [],
      "collapsed_sections": [],
      "include_colab_link": true
    },
    "kernelspec": {
      "name": "python3",
      "display_name": "Python 3"
    }
  },
  "cells": [
    {
      "cell_type": "markdown",
      "metadata": {
        "id": "view-in-github",
        "colab_type": "text"
      },
      "source": [
        "<a href=\"https://colab.research.google.com/github/alphoenixbiz/Deep-Learning-Tensorflow-PyTorch/blob/master/Single%20Shot%20MultiBox%20Detector%20(SSD)/Example%200/Single_Shot_MultiBox_Detector(SS)_example0.ipynb\" target=\"_parent\"><img src=\"https://colab.research.google.com/assets/colab-badge.svg\" alt=\"Open In Colab\"/></a>"
      ]
    },
    {
      "cell_type": "code",
      "metadata": {
        "id": "EPXAQ_oRHtrK",
        "colab_type": "code",
        "colab": {
          "base_uri": "https://localhost:8080/",
          "height": 34
        },
        "outputId": "265f283a-f587-4688-a374-435af27c5363"
      },
      "source": [
        "from google.colab import drive \n",
        "drive.mount('/content/gdrive')"
      ],
      "execution_count": 18,
      "outputs": [
        {
          "output_type": "stream",
          "text": [
            "Drive already mounted at /content/gdrive; to attempt to forcibly remount, call drive.mount(\"/content/gdrive\", force_remount=True).\n"
          ],
          "name": "stdout"
        }
      ]
    },
    {
      "cell_type": "code",
      "metadata": {
        "id": "Gn46jUKKHamk",
        "colab_type": "code",
        "colab": {}
      },
      "source": [
        "import numpy as np\n",
        "import pandas as pd\n",
        "from matplotlib import pyplot as plt\n",
        "%matplotlib inline"
      ],
      "execution_count": 0,
      "outputs": []
    },
    {
      "cell_type": "code",
      "metadata": {
        "id": "4eynZoBYqxIl",
        "colab_type": "code",
        "colab": {
          "base_uri": "https://localhost:8080/",
          "height": 34
        },
        "outputId": "8fac28a0-a1fc-4d53-a99d-e06c9bcaf33e"
      },
      "source": [
        "\n",
        "%cd /content/gdrive/My Drive/Colab Notebooks/DATA/ssd_data"
      ],
      "execution_count": 20,
      "outputs": [
        {
          "output_type": "stream",
          "text": [
            "/content/gdrive/My Drive/Colab Notebooks/DATA/ssd_data\n"
          ],
          "name": "stdout"
        }
      ]
    },
    {
      "cell_type": "code",
      "metadata": {
        "id": "sUtzhm0Zsbvk",
        "colab_type": "code",
        "colab": {
          "base_uri": "https://localhost:8080/",
          "height": 102
        },
        "outputId": "b8abfc88-34f1-4ddf-caca-8ecc6324767c"
      },
      "source": [
        "%ls"
      ],
      "execution_count": 21,
      "outputs": [
        {
          "output_type": "stream",
          "text": [
            " \u001b[0m\u001b[01;34mdata\u001b[0m/                     object_detection_commented.py\n",
            "'funny_dog (1).mp4'        object_detection_nocomment.py\n",
            " funny_dog.mp4             ssd300_mAP_77.43_v2.pth\n",
            " __init__.cpython-35.pyc   ssd.py\n",
            " \u001b[01;34mlayers\u001b[0m/\n"
          ],
          "name": "stdout"
        }
      ]
    },
    {
      "cell_type": "code",
      "metadata": {
        "id": "YmrZp85Uy1Nd",
        "colab_type": "code",
        "colab": {}
      },
      "source": [
        "import sys\n",
        "sys.path.append('/content/gdrive/My Drive/Colab Notebooks/DATA/ssd_data')"
      ],
      "execution_count": 0,
      "outputs": []
    },
    {
      "cell_type": "code",
      "metadata": {
        "id": "kkIH-59XljAe",
        "colab_type": "code",
        "colab": {}
      },
      "source": [
        "# Importing the libraries\n",
        "import torch\n",
        "from torch.autograd import Variable\n",
        "import cv2\n",
        "from __init__ import BaseTransform, VOC_CLASSES as labelmap\n",
        "from ssd import build_ssd\n",
        "import imageio"
      ],
      "execution_count": 0,
      "outputs": []
    },
    {
      "cell_type": "code",
      "metadata": {
        "id": "VT1KbEXBm2rG",
        "colab_type": "code",
        "colab": {}
      },
      "source": [
        "\n",
        "# Defining a function that will do the detections\n",
        "def detect(frame, net, transform): # We define a detect function that will take as inputs, a frame, a ssd neural network, and a transformation to be applied on the images, and that will return the frame with the detector rectangle.\n",
        "    height, width = frame.shape[:2] # We get the height and the width of the frame.\n",
        "    frame_t = transform(frame)[0] # We apply the transformation to our frame.\n",
        "    x = torch.from_numpy(frame_t).permute(2, 0, 1) # We convert the frame into a torch tensor.\n",
        "    x = Variable(x.unsqueeze(0)) # We add a fake dimension corresponding to the batch.\n",
        "    y = net(x) # We feed the neural network ssd with the image and we get the output y.\n",
        "    detections = y.data # We create the detections tensor contained in the output y.\n",
        "    scale = torch.Tensor([width, height, width, height]) # We create a tensor object of dimensions [width, height, width, height].\n",
        "    for i in range(detections.size(1)): # For every class:\n",
        "        j = 0 # We initialize the loop variable j that will correspond to the occurrences of the class.\n",
        "        while detections[0, i, j, 0] >= 0.6: # We take into account all the occurrences j of the class i that have a matching score larger than 0.6.\n",
        "            pt = (detections[0, i, j, 1:] * scale).numpy() # We get the coordinates of the points at the upper left and the lower right of the detector rectangle.\n",
        "            cv2.rectangle(frame, (int(pt[0]), int(pt[1])), (int(pt[2]), int(pt[3])), (255, 0, 0), 2) # We draw a rectangle around the detected object.\n",
        "            cv2.putText(frame, labelmap[i - 1], (int(pt[0]), int(pt[1])), cv2.FONT_HERSHEY_SIMPLEX, 2, (255, 255, 255), 2, cv2.LINE_AA) # We put the label of the class right above the rectangle.\n",
        "            j += 1 # We increment j to get to the next occurrence.\n",
        "    return frame # We return the original frame with the detector rectangle and the label around the detected object.\n"
      ],
      "execution_count": 0,
      "outputs": []
    },
    {
      "cell_type": "code",
      "metadata": {
        "id": "tIMCETdwm5Bz",
        "colab_type": "code",
        "colab": {}
      },
      "source": [
        "# Creating the SSD neural network\n",
        "net = build_ssd('test') # We create an object that is our neural network ssd.\n",
        "net.load_state_dict(torch.load('gdrive/My Drive/Colab Notebooks/DATA/ssd_data/ssd300_mAP_77.43_v2.pth', map_location = lambda storage, loc: storage)) # We get the weights of the neural network from another one that is pretrained (ssd300_mAP_77.43_v2.pth).\n"
      ],
      "execution_count": 0,
      "outputs": []
    },
    {
      "cell_type": "code",
      "metadata": {
        "id": "YV4LJj-Tm4_I",
        "colab_type": "code",
        "colab": {}
      },
      "source": [
        "# Creating the transformation\n",
        "transform = BaseTransform(net.size, (104/256.0, 117/256.0, 123/256.0)) # We create an object of the BaseTransform class, a class that will do the required transformations so that the image can be the input of the neural network.\n"
      ],
      "execution_count": 0,
      "outputs": []
    },
    {
      "cell_type": "code",
      "metadata": {
        "id": "V0A17VqAnCBo",
        "colab_type": "code",
        "colab": {}
      },
      "source": [
        "# Doing some Object Detection on a video\n",
        "reader = imageio.get_reader('gdrive/My Drive/Colab Notebooks/DATA/ssd_data/funny_dog.mp4') # We open the video.\n",
        "fps = reader.get_meta_data()['fps'] # We get the fps frequence (frames per second).\n",
        "writer = imageio.get_writer('gdrive/My Drive/Colab Notebooks/DATA/ssd_data/output.mp4', fps = fps) # We create an output video with this same fps frequence.\n",
        "for i, frame in enumerate(reader): # We iterate on the frames of the output video:\n",
        "    frame = detect(frame, net.eval(), transform) # We call our detect function (defined above) to detect the object on the frame.\n",
        "    writer.append_data(frame) # We add the next frame in the output video.\n",
        "    print(i) # We print the number of the processed frame.\n",
        "writer.close() # We close the process that handles the creation of the output video."
      ],
      "execution_count": 0,
      "outputs": []
    }
  ]
}