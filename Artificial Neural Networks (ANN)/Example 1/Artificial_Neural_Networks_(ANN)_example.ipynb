{
  "nbformat": 4,
  "nbformat_minor": 0,
  "metadata": {
    "colab": {
      "name": "Artificial Neural Networks (ANN)_example1.ipynb",
      "version": "0.3.2",
      "provenance": [],
      "collapsed_sections": [],
      "include_colab_link": true
    },
    "kernelspec": {
      "name": "python3",
      "display_name": "Python 3"
    }
  },
  "cells": [
    {
      "cell_type": "markdown",
      "metadata": {
        "id": "view-in-github",
        "colab_type": "text"
      },
      "source": [
        "<a href=\"https://colab.research.google.com/github/alphoenixbiz/Deep-Learning-Tensorflow/blob/master/Artificial%20Neural%20Networks%20(ANN)/Example%201/Artificial_Neural_Networks_(ANN)_example1.ipynb\" target=\"_parent\"><img src=\"https://colab.research.google.com/assets/colab-badge.svg\" alt=\"Open In Colab\"/></a>"
      ]
    },
    {
      "cell_type": "code",
      "metadata": {
        "id": "yvEMKUbEJQi4",
        "colab_type": "code",
        "colab": {
          "base_uri": "https://localhost:8080/",
          "height": 34
        },
        "outputId": "63c15c76-b8ce-4568-928e-0df934af97b4"
      },
      "source": [
        "import numpy as np\n",
        "import pandas as pd\n",
        "from matplotlib import pyplot as plt\n",
        "%matplotlib inline\n",
        "\n",
        "\n",
        "# !pip install -q tensorflow==2.0.0-beta1\n",
        "import tensorflow as tf\n",
        "\n",
        "from tensorflow import keras\n",
        "from tensorflow.keras import layers\n",
        "\n",
        "print(tf.__version__)"
      ],
      "execution_count": 7,
      "outputs": [
        {
          "output_type": "stream",
          "text": [
            "2.0.0-beta1\n"
          ],
          "name": "stdout"
        }
      ]
    },
    {
      "cell_type": "code",
      "metadata": {
        "id": "gIdEJtTXJemm",
        "colab_type": "code",
        "colab": {
          "base_uri": "https://localhost:8080/",
          "height": 34
        },
        "outputId": "9bf7da79-9c6f-4675-cb7c-69064fdf8312"
      },
      "source": [
        "from google.colab import drive \n",
        "drive.mount('/content/gdrive')"
      ],
      "execution_count": 8,
      "outputs": [
        {
          "output_type": "stream",
          "text": [
            "Drive already mounted at /content/gdrive; to attempt to forcibly remount, call drive.mount(\"/content/gdrive\", force_remount=True).\n"
          ],
          "name": "stdout"
        }
      ]
    },
    {
      "cell_type": "code",
      "metadata": {
        "id": "oBoS0y5tCbGQ",
        "colab_type": "code",
        "colab": {
          "base_uri": "https://localhost:8080/",
          "height": 224
        },
        "outputId": "d0600a39-59e6-429b-8a42-f0b441e14146"
      },
      "source": [
        "df = pd.read_csv(\"gdrive/My Drive/Colab Notebooks/DATA/Churn_Modelling.csv\")\n",
        "df.head()"
      ],
      "execution_count": 9,
      "outputs": [
        {
          "output_type": "execute_result",
          "data": {
            "text/html": [
              "<div>\n",
              "<style scoped>\n",
              "    .dataframe tbody tr th:only-of-type {\n",
              "        vertical-align: middle;\n",
              "    }\n",
              "\n",
              "    .dataframe tbody tr th {\n",
              "        vertical-align: top;\n",
              "    }\n",
              "\n",
              "    .dataframe thead th {\n",
              "        text-align: right;\n",
              "    }\n",
              "</style>\n",
              "<table border=\"1\" class=\"dataframe\">\n",
              "  <thead>\n",
              "    <tr style=\"text-align: right;\">\n",
              "      <th></th>\n",
              "      <th>RowNumber</th>\n",
              "      <th>CustomerId</th>\n",
              "      <th>Surname</th>\n",
              "      <th>CreditScore</th>\n",
              "      <th>Geography</th>\n",
              "      <th>Gender</th>\n",
              "      <th>Age</th>\n",
              "      <th>Tenure</th>\n",
              "      <th>Balance</th>\n",
              "      <th>NumOfProducts</th>\n",
              "      <th>HasCrCard</th>\n",
              "      <th>IsActiveMember</th>\n",
              "      <th>EstimatedSalary</th>\n",
              "      <th>Exited</th>\n",
              "    </tr>\n",
              "  </thead>\n",
              "  <tbody>\n",
              "    <tr>\n",
              "      <th>0</th>\n",
              "      <td>1</td>\n",
              "      <td>15634602</td>\n",
              "      <td>Hargrave</td>\n",
              "      <td>619</td>\n",
              "      <td>France</td>\n",
              "      <td>Female</td>\n",
              "      <td>42</td>\n",
              "      <td>2</td>\n",
              "      <td>0.00</td>\n",
              "      <td>1</td>\n",
              "      <td>1</td>\n",
              "      <td>1</td>\n",
              "      <td>101348.88</td>\n",
              "      <td>1</td>\n",
              "    </tr>\n",
              "    <tr>\n",
              "      <th>1</th>\n",
              "      <td>2</td>\n",
              "      <td>15647311</td>\n",
              "      <td>Hill</td>\n",
              "      <td>608</td>\n",
              "      <td>Spain</td>\n",
              "      <td>Female</td>\n",
              "      <td>41</td>\n",
              "      <td>1</td>\n",
              "      <td>83807.86</td>\n",
              "      <td>1</td>\n",
              "      <td>0</td>\n",
              "      <td>1</td>\n",
              "      <td>112542.58</td>\n",
              "      <td>0</td>\n",
              "    </tr>\n",
              "    <tr>\n",
              "      <th>2</th>\n",
              "      <td>3</td>\n",
              "      <td>15619304</td>\n",
              "      <td>Onio</td>\n",
              "      <td>502</td>\n",
              "      <td>France</td>\n",
              "      <td>Female</td>\n",
              "      <td>42</td>\n",
              "      <td>8</td>\n",
              "      <td>159660.80</td>\n",
              "      <td>3</td>\n",
              "      <td>1</td>\n",
              "      <td>0</td>\n",
              "      <td>113931.57</td>\n",
              "      <td>1</td>\n",
              "    </tr>\n",
              "    <tr>\n",
              "      <th>3</th>\n",
              "      <td>4</td>\n",
              "      <td>15701354</td>\n",
              "      <td>Boni</td>\n",
              "      <td>699</td>\n",
              "      <td>France</td>\n",
              "      <td>Female</td>\n",
              "      <td>39</td>\n",
              "      <td>1</td>\n",
              "      <td>0.00</td>\n",
              "      <td>2</td>\n",
              "      <td>0</td>\n",
              "      <td>0</td>\n",
              "      <td>93826.63</td>\n",
              "      <td>0</td>\n",
              "    </tr>\n",
              "    <tr>\n",
              "      <th>4</th>\n",
              "      <td>5</td>\n",
              "      <td>15737888</td>\n",
              "      <td>Mitchell</td>\n",
              "      <td>850</td>\n",
              "      <td>Spain</td>\n",
              "      <td>Female</td>\n",
              "      <td>43</td>\n",
              "      <td>2</td>\n",
              "      <td>125510.82</td>\n",
              "      <td>1</td>\n",
              "      <td>1</td>\n",
              "      <td>1</td>\n",
              "      <td>79084.10</td>\n",
              "      <td>0</td>\n",
              "    </tr>\n",
              "  </tbody>\n",
              "</table>\n",
              "</div>"
            ],
            "text/plain": [
              "   RowNumber  CustomerId   Surname  ...  IsActiveMember EstimatedSalary Exited\n",
              "0          1    15634602  Hargrave  ...               1       101348.88      1\n",
              "1          2    15647311      Hill  ...               1       112542.58      0\n",
              "2          3    15619304      Onio  ...               0       113931.57      1\n",
              "3          4    15701354      Boni  ...               0        93826.63      0\n",
              "4          5    15737888  Mitchell  ...               1        79084.10      0\n",
              "\n",
              "[5 rows x 14 columns]"
            ]
          },
          "metadata": {
            "tags": []
          },
          "execution_count": 9
        }
      ]
    },
    {
      "cell_type": "code",
      "metadata": {
        "id": "uRR5PM5NrBD4",
        "colab_type": "code",
        "colab": {}
      },
      "source": [
        "X = df.iloc[:, 3:13].values\n",
        "y = df.iloc[:, 13].values"
      ],
      "execution_count": 0,
      "outputs": []
    },
    {
      "cell_type": "code",
      "metadata": {
        "id": "JwA92HNqrYl6",
        "colab_type": "code",
        "colab": {
          "base_uri": "https://localhost:8080/",
          "height": 139
        },
        "outputId": "b488039e-8daf-4ec1-e85f-fc11eb851553"
      },
      "source": [
        "# Encoding categorical data\n",
        "from sklearn.preprocessing import LabelEncoder, OneHotEncoder\n",
        "labelencoder_X_1 = LabelEncoder()\n",
        "X[:, 1] = labelencoder_X_1.fit_transform(X[:, 1])\n",
        "labelencoder_X_2 = LabelEncoder()\n",
        "X[:, 2] = labelencoder_X_2.fit_transform(X[:, 2])\n",
        "onehotencoder = OneHotEncoder(categorical_features = [1])\n",
        "X = onehotencoder.fit_transform(X).toarray()\n",
        "X = X[:, 1:]"
      ],
      "execution_count": 11,
      "outputs": [
        {
          "output_type": "stream",
          "text": [
            "/usr/local/lib/python3.6/dist-packages/sklearn/preprocessing/_encoders.py:415: FutureWarning: The handling of integer data will change in version 0.22. Currently, the categories are determined based on the range [0, max(values)], while in the future they will be determined based on the unique values.\n",
            "If you want the future behaviour and silence this warning, you can specify \"categories='auto'\".\n",
            "In case you used a LabelEncoder before this OneHotEncoder to convert the categories to integers, then you can now use the OneHotEncoder directly.\n",
            "  warnings.warn(msg, FutureWarning)\n",
            "/usr/local/lib/python3.6/dist-packages/sklearn/preprocessing/_encoders.py:451: DeprecationWarning: The 'categorical_features' keyword is deprecated in version 0.20 and will be removed in 0.22. You can use the ColumnTransformer instead.\n",
            "  \"use the ColumnTransformer instead.\", DeprecationWarning)\n"
          ],
          "name": "stderr"
        }
      ]
    },
    {
      "cell_type": "code",
      "metadata": {
        "id": "10IrfYxVsI_Z",
        "colab_type": "code",
        "colab": {}
      },
      "source": [
        "# Splitting the dataset into the Training set and Test set\n",
        "from sklearn.model_selection import train_test_split\n",
        "X_train, X_test, y_train, y_test = train_test_split(X, y, test_size = 0.2, random_state = 0)"
      ],
      "execution_count": 0,
      "outputs": []
    },
    {
      "cell_type": "code",
      "metadata": {
        "id": "aOB2YmKOsQu-",
        "colab_type": "code",
        "colab": {}
      },
      "source": [
        "# Feature Scaling\n",
        "from sklearn.preprocessing import StandardScaler\n",
        "sc = StandardScaler()\n",
        "X_train = sc.fit_transform(X_train)\n",
        "X_test = sc.transform(X_test)"
      ],
      "execution_count": 0,
      "outputs": []
    },
    {
      "cell_type": "code",
      "metadata": {
        "id": "KIQ4uLC5sURH",
        "colab_type": "code",
        "colab": {
          "base_uri": "https://localhost:8080/",
          "height": 34
        },
        "outputId": "6d54a2b4-4ac9-4ced-e0a0-aa97025fd458"
      },
      "source": [
        "\n",
        "# Importing the Keras libraries and packages\n",
        "import keras\n",
        "from keras.models import Sequential\n",
        "from keras.layers import Dense"
      ],
      "execution_count": 14,
      "outputs": [
        {
          "output_type": "stream",
          "text": [
            "Using TensorFlow backend.\n"
          ],
          "name": "stderr"
        }
      ]
    },
    {
      "cell_type": "code",
      "metadata": {
        "id": "10DDgyW8sZEu",
        "colab_type": "code",
        "colab": {
          "base_uri": "https://localhost:8080/",
          "height": 1000
        },
        "outputId": "26696215-13ca-4421-f456-34f1cbae1bbb"
      },
      "source": [
        "# Initialising the ANN\n",
        "classifier =tf.keras.Sequential()\n",
        "\n",
        "# Adding the input layer and the first hidden layer\n",
        "classifier.add(layers.Dense(10, activation = 'relu', input_dim = 11))\n",
        "\n",
        "# Adding the second hidden layer\n",
        "classifier.add(layers.Dense(10, activation = 'relu'))\n",
        "\n",
        "# Adding the output layer\n",
        "classifier.add(layers.Dense(1, activation = 'sigmoid'))\n",
        "\n",
        "# Compiling the ANN\n",
        "classifier.compile(optimizer = 'adam', loss = 'binary_crossentropy', metrics = ['accuracy'])\n",
        "\n",
        "# Fitting the ANN to the Training set\n",
        "classifier.fit(X_train, y_train, batch_size = 10, nb_epoch = 100)"
      ],
      "execution_count": 23,
      "outputs": [
        {
          "output_type": "stream",
          "text": [
            "WARNING: Logging before flag parsing goes to stderr.\n",
            "W0721 08:50:39.625269 140064349476736 training.py:617] The `nb_epoch` argument in `fit` has been renamed `epochs`.\n",
            "W0721 08:50:39.739426 140064349476736 deprecation.py:323] From /usr/local/lib/python3.6/dist-packages/tensorflow/python/ops/math_grad.py:1250: add_dispatch_support.<locals>.wrapper (from tensorflow.python.ops.array_ops) is deprecated and will be removed in a future version.\n",
            "Instructions for updating:\n",
            "Use tf.where in 2.0, which has the same broadcast rule as np.where\n"
          ],
          "name": "stderr"
        },
        {
          "output_type": "stream",
          "text": [
            "Train on 8000 samples\n",
            "Epoch 1/100\n",
            "8000/8000 [==============================] - 1s 157us/sample - loss: 0.4977 - accuracy: 0.7724\n",
            "Epoch 2/100\n",
            "8000/8000 [==============================] - 1s 143us/sample - loss: 0.4246 - accuracy: 0.8139\n",
            "Epoch 3/100\n",
            "8000/8000 [==============================] - 1s 147us/sample - loss: 0.3964 - accuracy: 0.8310\n",
            "Epoch 4/100\n",
            "8000/8000 [==============================] - 1s 145us/sample - loss: 0.3727 - accuracy: 0.8431\n",
            "Epoch 5/100\n",
            "8000/8000 [==============================] - 1s 144us/sample - loss: 0.3609 - accuracy: 0.8497\n",
            "Epoch 6/100\n",
            "8000/8000 [==============================] - 1s 144us/sample - loss: 0.3545 - accuracy: 0.8520\n",
            "Epoch 7/100\n",
            "8000/8000 [==============================] - 1s 147us/sample - loss: 0.3507 - accuracy: 0.8543\n",
            "Epoch 8/100\n",
            "8000/8000 [==============================] - 1s 146us/sample - loss: 0.3485 - accuracy: 0.8544\n",
            "Epoch 9/100\n",
            "8000/8000 [==============================] - 1s 146us/sample - loss: 0.3466 - accuracy: 0.8554\n",
            "Epoch 10/100\n",
            "8000/8000 [==============================] - 1s 146us/sample - loss: 0.3449 - accuracy: 0.8564\n",
            "Epoch 11/100\n",
            "8000/8000 [==============================] - 1s 145us/sample - loss: 0.3436 - accuracy: 0.8584\n",
            "Epoch 12/100\n",
            "8000/8000 [==============================] - 1s 149us/sample - loss: 0.3432 - accuracy: 0.8585\n",
            "Epoch 13/100\n",
            "8000/8000 [==============================] - 1s 147us/sample - loss: 0.3417 - accuracy: 0.8590\n",
            "Epoch 14/100\n",
            "8000/8000 [==============================] - 1s 156us/sample - loss: 0.3406 - accuracy: 0.8614\n",
            "Epoch 15/100\n",
            "8000/8000 [==============================] - 1s 157us/sample - loss: 0.3394 - accuracy: 0.8620\n",
            "Epoch 16/100\n",
            "8000/8000 [==============================] - 1s 160us/sample - loss: 0.3384 - accuracy: 0.8618\n",
            "Epoch 17/100\n",
            "8000/8000 [==============================] - 1s 156us/sample - loss: 0.3375 - accuracy: 0.8621\n",
            "Epoch 18/100\n",
            "8000/8000 [==============================] - 1s 159us/sample - loss: 0.3371 - accuracy: 0.8643\n",
            "Epoch 19/100\n",
            "8000/8000 [==============================] - 1s 159us/sample - loss: 0.3361 - accuracy: 0.8634\n",
            "Epoch 20/100\n",
            "8000/8000 [==============================] - 1s 156us/sample - loss: 0.3356 - accuracy: 0.8650\n",
            "Epoch 21/100\n",
            "8000/8000 [==============================] - 1s 157us/sample - loss: 0.3348 - accuracy: 0.8625\n",
            "Epoch 22/100\n",
            "8000/8000 [==============================] - 1s 150us/sample - loss: 0.3344 - accuracy: 0.8630\n",
            "Epoch 23/100\n",
            "8000/8000 [==============================] - 1s 147us/sample - loss: 0.3343 - accuracy: 0.8631\n",
            "Epoch 24/100\n",
            "8000/8000 [==============================] - 1s 146us/sample - loss: 0.3336 - accuracy: 0.8640\n",
            "Epoch 25/100\n",
            "8000/8000 [==============================] - 1s 148us/sample - loss: 0.3334 - accuracy: 0.8658\n",
            "Epoch 26/100\n",
            "8000/8000 [==============================] - 1s 146us/sample - loss: 0.3331 - accuracy: 0.8636\n",
            "Epoch 27/100\n",
            "8000/8000 [==============================] - 1s 148us/sample - loss: 0.3326 - accuracy: 0.8652\n",
            "Epoch 28/100\n",
            "8000/8000 [==============================] - 1s 147us/sample - loss: 0.3325 - accuracy: 0.8655\n",
            "Epoch 29/100\n",
            "8000/8000 [==============================] - 1s 150us/sample - loss: 0.3323 - accuracy: 0.8668\n",
            "Epoch 30/100\n",
            "8000/8000 [==============================] - 1s 147us/sample - loss: 0.3309 - accuracy: 0.8654\n",
            "Epoch 31/100\n",
            "8000/8000 [==============================] - 1s 146us/sample - loss: 0.3312 - accuracy: 0.8652\n",
            "Epoch 32/100\n",
            "8000/8000 [==============================] - 1s 147us/sample - loss: 0.3311 - accuracy: 0.8651\n",
            "Epoch 33/100\n",
            "8000/8000 [==============================] - 1s 145us/sample - loss: 0.3313 - accuracy: 0.8655\n",
            "Epoch 34/100\n",
            "8000/8000 [==============================] - 1s 146us/sample - loss: 0.3304 - accuracy: 0.8652\n",
            "Epoch 35/100\n",
            "8000/8000 [==============================] - 1s 143us/sample - loss: 0.3299 - accuracy: 0.8674\n",
            "Epoch 36/100\n",
            "8000/8000 [==============================] - 1s 145us/sample - loss: 0.3300 - accuracy: 0.8655\n",
            "Epoch 37/100\n",
            "8000/8000 [==============================] - 1s 146us/sample - loss: 0.3297 - accuracy: 0.8679\n",
            "Epoch 38/100\n",
            "8000/8000 [==============================] - 1s 145us/sample - loss: 0.3296 - accuracy: 0.8676\n",
            "Epoch 39/100\n",
            "8000/8000 [==============================] - 1s 143us/sample - loss: 0.3291 - accuracy: 0.8669\n",
            "Epoch 40/100\n",
            "8000/8000 [==============================] - 1s 143us/sample - loss: 0.3290 - accuracy: 0.8675\n",
            "Epoch 41/100\n",
            "8000/8000 [==============================] - 1s 147us/sample - loss: 0.3286 - accuracy: 0.8674\n",
            "Epoch 42/100\n",
            "8000/8000 [==============================] - 1s 145us/sample - loss: 0.3282 - accuracy: 0.8670\n",
            "Epoch 43/100\n",
            "8000/8000 [==============================] - 1s 143us/sample - loss: 0.3276 - accuracy: 0.8684\n",
            "Epoch 44/100\n",
            "8000/8000 [==============================] - 1s 145us/sample - loss: 0.3276 - accuracy: 0.8683\n",
            "Epoch 45/100\n",
            "8000/8000 [==============================] - 1s 144us/sample - loss: 0.3271 - accuracy: 0.8676\n",
            "Epoch 46/100\n",
            "8000/8000 [==============================] - 1s 144us/sample - loss: 0.3269 - accuracy: 0.8683\n",
            "Epoch 47/100\n",
            "8000/8000 [==============================] - 1s 144us/sample - loss: 0.3268 - accuracy: 0.8665\n",
            "Epoch 48/100\n",
            "8000/8000 [==============================] - 1s 150us/sample - loss: 0.3267 - accuracy: 0.8687\n",
            "Epoch 49/100\n",
            "8000/8000 [==============================] - 1s 145us/sample - loss: 0.3266 - accuracy: 0.8673\n",
            "Epoch 50/100\n",
            "8000/8000 [==============================] - 1s 144us/sample - loss: 0.3269 - accuracy: 0.8694\n",
            "Epoch 51/100\n",
            "8000/8000 [==============================] - 1s 145us/sample - loss: 0.3259 - accuracy: 0.8680\n",
            "Epoch 52/100\n",
            "8000/8000 [==============================] - 1s 145us/sample - loss: 0.3262 - accuracy: 0.8687\n",
            "Epoch 53/100\n",
            "8000/8000 [==============================] - 1s 147us/sample - loss: 0.3260 - accuracy: 0.8690\n",
            "Epoch 54/100\n",
            "8000/8000 [==============================] - 1s 147us/sample - loss: 0.3256 - accuracy: 0.8691\n",
            "Epoch 55/100\n",
            "8000/8000 [==============================] - 1s 146us/sample - loss: 0.3258 - accuracy: 0.8665\n",
            "Epoch 56/100\n",
            "8000/8000 [==============================] - 1s 147us/sample - loss: 0.3250 - accuracy: 0.8681\n",
            "Epoch 57/100\n",
            "8000/8000 [==============================] - 1s 145us/sample - loss: 0.3246 - accuracy: 0.8668\n",
            "Epoch 58/100\n",
            "8000/8000 [==============================] - 1s 145us/sample - loss: 0.3244 - accuracy: 0.8686\n",
            "Epoch 59/100\n",
            "8000/8000 [==============================] - 1s 146us/sample - loss: 0.3247 - accuracy: 0.8677\n",
            "Epoch 60/100\n",
            "8000/8000 [==============================] - 1s 145us/sample - loss: 0.3243 - accuracy: 0.8689\n",
            "Epoch 61/100\n",
            "8000/8000 [==============================] - 1s 146us/sample - loss: 0.3243 - accuracy: 0.8668\n",
            "Epoch 62/100\n",
            "8000/8000 [==============================] - 1s 147us/sample - loss: 0.3241 - accuracy: 0.8692\n",
            "Epoch 63/100\n",
            "8000/8000 [==============================] - 1s 144us/sample - loss: 0.3228 - accuracy: 0.8691\n",
            "Epoch 64/100\n",
            "8000/8000 [==============================] - 1s 146us/sample - loss: 0.3241 - accuracy: 0.8685\n",
            "Epoch 65/100\n",
            "8000/8000 [==============================] - 1s 149us/sample - loss: 0.3234 - accuracy: 0.8656\n",
            "Epoch 66/100\n",
            "8000/8000 [==============================] - 1s 144us/sample - loss: 0.3227 - accuracy: 0.8694\n",
            "Epoch 67/100\n",
            "8000/8000 [==============================] - 1s 145us/sample - loss: 0.3234 - accuracy: 0.8668\n",
            "Epoch 68/100\n",
            "8000/8000 [==============================] - 1s 144us/sample - loss: 0.3228 - accuracy: 0.8680\n",
            "Epoch 69/100\n",
            "8000/8000 [==============================] - 1s 144us/sample - loss: 0.3233 - accuracy: 0.8685\n",
            "Epoch 70/100\n",
            "8000/8000 [==============================] - 1s 146us/sample - loss: 0.3223 - accuracy: 0.8698\n",
            "Epoch 71/100\n",
            "8000/8000 [==============================] - 1s 145us/sample - loss: 0.3225 - accuracy: 0.8676\n",
            "Epoch 72/100\n",
            "8000/8000 [==============================] - 1s 146us/sample - loss: 0.3222 - accuracy: 0.8695\n",
            "Epoch 73/100\n",
            "8000/8000 [==============================] - 1s 144us/sample - loss: 0.3224 - accuracy: 0.8679\n",
            "Epoch 74/100\n",
            "8000/8000 [==============================] - 1s 147us/sample - loss: 0.3220 - accuracy: 0.8690\n",
            "Epoch 75/100\n",
            "8000/8000 [==============================] - 1s 144us/sample - loss: 0.3216 - accuracy: 0.8695\n",
            "Epoch 76/100\n",
            "8000/8000 [==============================] - 1s 144us/sample - loss: 0.3219 - accuracy: 0.8683\n",
            "Epoch 77/100\n",
            "8000/8000 [==============================] - 1s 146us/sample - loss: 0.3215 - accuracy: 0.8677\n",
            "Epoch 78/100\n",
            "8000/8000 [==============================] - 1s 145us/sample - loss: 0.3215 - accuracy: 0.8701\n",
            "Epoch 79/100\n",
            "8000/8000 [==============================] - 1s 145us/sample - loss: 0.3212 - accuracy: 0.8664\n",
            "Epoch 80/100\n",
            "8000/8000 [==============================] - 1s 147us/sample - loss: 0.3217 - accuracy: 0.8692\n",
            "Epoch 81/100\n",
            "8000/8000 [==============================] - 1s 144us/sample - loss: 0.3215 - accuracy: 0.8689\n",
            "Epoch 82/100\n",
            "8000/8000 [==============================] - 1s 143us/sample - loss: 0.3212 - accuracy: 0.8691\n",
            "Epoch 83/100\n",
            "8000/8000 [==============================] - 1s 144us/sample - loss: 0.3209 - accuracy: 0.8692\n",
            "Epoch 84/100\n",
            "8000/8000 [==============================] - 1s 149us/sample - loss: 0.3207 - accuracy: 0.8692\n",
            "Epoch 85/100\n",
            "8000/8000 [==============================] - 1s 147us/sample - loss: 0.3214 - accuracy: 0.8673\n",
            "Epoch 86/100\n",
            "8000/8000 [==============================] - 1s 145us/sample - loss: 0.3209 - accuracy: 0.8704\n",
            "Epoch 87/100\n",
            "8000/8000 [==============================] - 1s 145us/sample - loss: 0.3208 - accuracy: 0.8700\n",
            "Epoch 88/100\n",
            "8000/8000 [==============================] - 1s 145us/sample - loss: 0.3203 - accuracy: 0.8698\n",
            "Epoch 89/100\n",
            "8000/8000 [==============================] - 1s 144us/sample - loss: 0.3209 - accuracy: 0.8696\n",
            "Epoch 90/100\n",
            "8000/8000 [==============================] - 1s 144us/sample - loss: 0.3198 - accuracy: 0.8704\n",
            "Epoch 91/100\n",
            "8000/8000 [==============================] - 1s 144us/sample - loss: 0.3204 - accuracy: 0.8700\n",
            "Epoch 92/100\n",
            "8000/8000 [==============================] - 1s 146us/sample - loss: 0.3199 - accuracy: 0.8704\n",
            "Epoch 93/100\n",
            "8000/8000 [==============================] - 1s 149us/sample - loss: 0.3198 - accuracy: 0.8691\n",
            "Epoch 94/100\n",
            "8000/8000 [==============================] - 1s 144us/sample - loss: 0.3200 - accuracy: 0.8705\n",
            "Epoch 95/100\n",
            "8000/8000 [==============================] - 1s 144us/sample - loss: 0.3199 - accuracy: 0.8700\n",
            "Epoch 96/100\n",
            "8000/8000 [==============================] - 1s 145us/sample - loss: 0.3204 - accuracy: 0.8694\n",
            "Epoch 97/100\n",
            "8000/8000 [==============================] - 1s 145us/sample - loss: 0.3197 - accuracy: 0.8692\n",
            "Epoch 98/100\n",
            "8000/8000 [==============================] - 1s 145us/sample - loss: 0.3198 - accuracy: 0.8699\n",
            "Epoch 99/100\n",
            "8000/8000 [==============================] - 1s 144us/sample - loss: 0.3189 - accuracy: 0.8727\n",
            "Epoch 100/100\n",
            "8000/8000 [==============================] - 1s 148us/sample - loss: 0.3194 - accuracy: 0.8701\n"
          ],
          "name": "stdout"
        },
        {
          "output_type": "execute_result",
          "data": {
            "text/plain": [
              "<tensorflow.python.keras.callbacks.History at 0x7f62fcd41898>"
            ]
          },
          "metadata": {
            "tags": []
          },
          "execution_count": 23
        }
      ]
    },
    {
      "cell_type": "code",
      "metadata": {
        "id": "XcldHuxlshZ2",
        "colab_type": "code",
        "colab": {
          "base_uri": "https://localhost:8080/",
          "height": 136
        },
        "outputId": "ef9fff84-a493-49d4-e81e-989e466e41ce"
      },
      "source": [
        "# Predicting the Test set results\n",
        "y_pred = classifier.predict(X_test)\n",
        "y_pred = (y_pred > 0.5)\n",
        "y_pred\n"
      ],
      "execution_count": 28,
      "outputs": [
        {
          "output_type": "execute_result",
          "data": {
            "text/plain": [
              "array([[False],\n",
              "       [False],\n",
              "       [False],\n",
              "       ...,\n",
              "       [False],\n",
              "       [False],\n",
              "       [False]])"
            ]
          },
          "metadata": {
            "tags": []
          },
          "execution_count": 28
        }
      ]
    },
    {
      "cell_type": "code",
      "metadata": {
        "id": "7wYm3zWlssvd",
        "colab_type": "code",
        "colab": {
          "base_uri": "https://localhost:8080/",
          "height": 51
        },
        "outputId": "b41466c5-2996-4ce2-ca77-ec1dc5a516f0"
      },
      "source": [
        "\n",
        "# Making the Confusion Matrix\n",
        "from sklearn.metrics import confusion_matrix\n",
        "cm = confusion_matrix(y_test, y_pred)\n",
        "cm"
      ],
      "execution_count": 27,
      "outputs": [
        {
          "output_type": "execute_result",
          "data": {
            "text/plain": [
              "array([[1491,  104],\n",
              "       [ 178,  227]])"
            ]
          },
          "metadata": {
            "tags": []
          },
          "execution_count": 27
        }
      ]
    }
  ]
}
