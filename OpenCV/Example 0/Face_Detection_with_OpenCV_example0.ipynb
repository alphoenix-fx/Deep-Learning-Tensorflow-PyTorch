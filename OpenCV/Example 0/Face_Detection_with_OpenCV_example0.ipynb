{
  "nbformat": 4,
  "nbformat_minor": 0,
  "metadata": {
    "colab": {
      "name": "Face Detection with OpenCV_example0.ipynb",
      "version": "0.3.2",
      "provenance": [],
      "collapsed_sections": [],
      "include_colab_link": true
    },
    "kernelspec": {
      "name": "python3",
      "display_name": "Python 3"
    }
  },
  "cells": [
    {
      "cell_type": "markdown",
      "metadata": {
        "id": "view-in-github",
        "colab_type": "text"
      },
      "source": [
        "<a href=\"https://colab.research.google.com/github/alphoenixbiz/Deep-Learning-Tensorflow-PyTorch/blob/master/OpenCV/Example%200/Face_Detection_with_OpenCV_example0.ipynb\" target=\"_parent\"><img src=\"https://colab.research.google.com/assets/colab-badge.svg\" alt=\"Open In Colab\"/></a>"
      ]
    },
    {
      "cell_type": "code",
      "metadata": {
        "id": "Gn46jUKKHamk",
        "colab_type": "code",
        "colab": {}
      },
      "source": [
        "import numpy as np\n",
        "import pandas as pd\n",
        "from matplotlib import pyplot as plt\n",
        "%matplotlib inline"
      ],
      "execution_count": 0,
      "outputs": []
    },
    {
      "cell_type": "code",
      "metadata": {
        "id": "2t7_Touo5qjF",
        "colab_type": "code",
        "colab": {}
      },
      "source": [
        "# # Importing the Keras libraries and packages\n",
        "# import tensorflow as tf\n",
        "\n",
        "# from tensorflow.keras import datasets, layers, models\n",
        "\n",
        "# from tensorflow.keras import Sequential\n",
        "# from tensorflow.keras.layers import Dense\n",
        "# from tensorflow.keras.layers import LSTM\n",
        "# from tensorflow.keras.layers import Dropout\n"
      ],
      "execution_count": 0,
      "outputs": []
    },
    {
      "cell_type": "code",
      "metadata": {
        "id": "EPXAQ_oRHtrK",
        "colab_type": "code",
        "outputId": "5d8ee2e8-133c-47a5-b06b-2aafb4ab8a9e",
        "colab": {
          "base_uri": "https://localhost:8080/",
          "height": 34
        }
      },
      "source": [
        "from google.colab import drive \n",
        "drive.mount('/content/gdrive')"
      ],
      "execution_count": 5,
      "outputs": [
        {
          "output_type": "stream",
          "text": [
            "Drive already mounted at /content/gdrive; to attempt to forcibly remount, call drive.mount(\"/content/gdrive\", force_remount=True).\n"
          ],
          "name": "stdout"
        }
      ]
    },
    {
      "cell_type": "code",
      "metadata": {
        "id": "sd3ffqvXmDJj",
        "colab_type": "code",
        "colab": {}
      },
      "source": [
        "# Importing the libraries\n",
        "import cv2\n",
        "\n",
        "# Loading the cascades\n",
        "face_cascade = cv2.CascadeClassifier('gdrive/My Drive/Colab Notebooks/DATA/haarcascade_frontalface_default.xml')\n",
        "eye_cascade = cv2.CascadeClassifier('gdrive/My Drive/Colab Notebooks/DATA/haarcascade_eye.xml')"
      ],
      "execution_count": 0,
      "outputs": []
    },
    {
      "cell_type": "code",
      "metadata": {
        "id": "vxYR_mjEmBmq",
        "colab_type": "code",
        "colab": {}
      },
      "source": [
        "def detect(gray, frame): # We create a function that takes as input the image in black and white (gray) and the original image (frame), and that will return the same image with the detector rectangles. \n",
        "    faces = face_cascade.detectMultiScale(gray, 1.3, 5) # We apply the detectMultiScale method from the face cascade to locate one or several faces in the image.\n",
        "    for (x, y, w, h) in faces: # For each detected face:\n",
        "        cv2.rectangle(frame, (x, y), (x+w, y+h), (255, 0, 0), 2) # We paint a rectangle around the face.\n",
        "        roi_gray = gray[y:y+h, x:x+w] # We get the region of interest in the black and white image.\n",
        "        roi_color = frame[y:y+h, x:x+w] # We get the region of interest in the colored image.\n",
        "        eyes = eye_cascade.detectMultiScale(roi_gray, 1.1, 3) # We apply the detectMultiScale method to locate one or several eyes in the image.\n",
        "        for (ex, ey, ew, eh) in eyes: # For each detected eye:\n",
        "            cv2.rectangle(roi_color,(ex, ey),(ex+ew, ey+eh), (0, 255, 0), 2) # We paint a rectangle around the eyes, but inside the referential of the face.\n",
        "    return frame # We return the image with the detector rectangles."
      ],
      "execution_count": 0,
      "outputs": []
    },
    {
      "cell_type": "code",
      "metadata": {
        "id": "JnDWYgQgxMPd",
        "colab_type": "code",
        "colab": {}
      },
      "source": [
        "video_capture = cv2.VideoCapture(0) # We turn the webcam on."
      ],
      "execution_count": 0,
      "outputs": []
    },
    {
      "cell_type": "code",
      "metadata": {
        "id": "PkzyMTjexTXp",
        "colab_type": "code",
        "colab": {}
      },
      "source": [
        "while True: # We repeat infinitely (until break):\n",
        "    _, frame = video_capture.read() # We get the last frame.\n",
        "    gray = cv2.cvtColor(frame, cv2.COLOR_BGR2GRAY) # We do some colour transformations.\n",
        "    canvas = detect(gray, frame) # We get the output of our detect function.\n",
        "    cv2.imshow('Video', canvas) # We display the outputs.\n",
        "    if cv2.waitKey(1) & 0xFF == ord('q'): # If we type on the keyboard:\n",
        "        break # We stop the loop."
      ],
      "execution_count": 0,
      "outputs": []
    },
    {
      "cell_type": "code",
      "metadata": {
        "id": "hVra-wU6xahK",
        "colab_type": "code",
        "colab": {}
      },
      "source": [
        "video_capture.release() # We turn the webcam off.\n",
        "cv2.destroyAllWindows() # We destroy all the windows inside which the images were displayed."
      ],
      "execution_count": 0,
      "outputs": []
    }
  ]
}